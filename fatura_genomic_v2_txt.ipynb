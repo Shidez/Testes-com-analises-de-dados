{
 "cells": [
  {
   "cell_type": "code",
   "execution_count": 128,
   "id": "da72fd94",
   "metadata": {},
   "outputs": [],
   "source": [
    "from PyPDF2 import PdfReader\n",
    "import re\n",
    "import pandas as pd"
   ]
  },
  {
   "cell_type": "code",
   "execution_count": 129,
   "id": "21239aa4",
   "metadata": {},
   "outputs": [],
   "source": [
    "reader = PdfReader('GENOMIC.pdf')\n",
    "\n",
    "num_pages = len(reader.pages)\n",
    "\n",
    "texto = []\n",
    "\n",
    "for page_number in range(num_pages):\n",
    "    page = reader.pages[page_number]\n",
    "    texto.append(page.extract_text())\n"
   ]
  },
  {
   "cell_type": "code",
   "execution_count": 130,
   "id": "85eacc87",
   "metadata": {},
   "outputs": [],
   "source": [
    "# Escrevendo o texto em um arquivo de texto\n",
    "with open('texto_extraido.txt', 'w', encoding='utf-8') as file:\n",
    "    for page_text in texto:\n",
    "        file.write(page_text)"
   ]
  },
  {
   "cell_type": "code",
   "execution_count": 131,
   "id": "53228c9f",
   "metadata": {},
   "outputs": [
    {
     "data": {
      "text/html": [
       "<div>\n",
       "<style scoped>\n",
       "    .dataframe tbody tr th:only-of-type {\n",
       "        vertical-align: middle;\n",
       "    }\n",
       "\n",
       "    .dataframe tbody tr th {\n",
       "        vertical-align: top;\n",
       "    }\n",
       "\n",
       "    .dataframe thead th {\n",
       "        text-align: right;\n",
       "    }\n",
       "</style>\n",
       "<table border=\"1\" class=\"dataframe\">\n",
       "  <thead>\n",
       "    <tr style=\"text-align: right;\">\n",
       "      <th></th>\n",
       "      <th>Nome Cliente</th>\n",
       "      <th>Data de cadastro</th>\n",
       "      <th>Data do serviço</th>\n",
       "      <th>Valor</th>\n",
       "    </tr>\n",
       "  </thead>\n",
       "  <tbody>\n",
       "    <tr>\n",
       "      <th>0</th>\n",
       "      <td>CARLA   LAMBERTI</td>\n",
       "      <td>21.09.2023</td>\n",
       "      <td>29.09.2023</td>\n",
       "      <td>1,450</td>\n",
       "    </tr>\n",
       "    <tr>\n",
       "      <th>1</th>\n",
       "      <td>VANDA   VOZNIAK</td>\n",
       "      <td>21.09.2023</td>\n",
       "      <td>29.09.2023</td>\n",
       "      <td>1,450</td>\n",
       "    </tr>\n",
       "    <tr>\n",
       "      <th>2</th>\n",
       "      <td>MAGDA FRIAS   \\nGONCALVES</td>\n",
       "      <td>25.09.2023</td>\n",
       "      <td>29.09.2023</td>\n",
       "      <td>1,450</td>\n",
       "    </tr>\n",
       "    <tr>\n",
       "      <th>3</th>\n",
       "      <td>JANICE MARIA \\nGERALDO DA   SILVA</td>\n",
       "      <td>25.09.2023</td>\n",
       "      <td>29.09.2023</td>\n",
       "      <td>1,450</td>\n",
       "    </tr>\n",
       "    <tr>\n",
       "      <th>4</th>\n",
       "      <td>JANIR IZABEL \\nMACHADO DE   \\nOLIVEIRA</td>\n",
       "      <td>21.09.2023</td>\n",
       "      <td>29.09.2023</td>\n",
       "      <td>1,450</td>\n",
       "    </tr>\n",
       "  </tbody>\n",
       "</table>\n",
       "</div>"
      ],
      "text/plain": [
       "                             Nome Cliente Data de cadastro Data do serviço  \\\n",
       "0                        CARLA   LAMBERTI       21.09.2023      29.09.2023   \n",
       "1                         VANDA   VOZNIAK       21.09.2023      29.09.2023   \n",
       "2               MAGDA FRIAS   \\nGONCALVES       25.09.2023      29.09.2023   \n",
       "3       JANICE MARIA \\nGERALDO DA   SILVA       25.09.2023      29.09.2023   \n",
       "4  JANIR IZABEL \\nMACHADO DE   \\nOLIVEIRA       21.09.2023      29.09.2023   \n",
       "\n",
       "   Valor  \n",
       "0  1,450  \n",
       "1  1,450  \n",
       "2  1,450  \n",
       "3  1,450  \n",
       "4  1,450  "
      ]
     },
     "execution_count": 131,
     "metadata": {},
     "output_type": "execute_result"
    }
   ],
   "source": [
    "# Lendo o conteúdo do arquivo texto_extraido.txt\n",
    "with open('texto_extraido.txt', 'r', encoding='utf-8') as file:\n",
    "    texto_do_arquivo = file.read()\n",
    "\n",
    "# Expressão regular para encontrar as linhas com os dados desejados\n",
    "padrao =r'Oncotype DX\\s+Breast\\s+Recurrence\\s+Score®\\s+test1\\s+OR(\\S+)\\s+(.+?)(\\d{2}\\.\\d{2}\\.\\d{4})\\s+(\\d{2}\\.\\d{2}\\.\\d{4})\\s+([\\d,]+)'\n",
    "\n",
    "# Encontrar todas as correspondências no texto\n",
    "correspondencias = re.findall(padrao, texto_do_arquivo, re.DOTALL)\n",
    "\n",
    "# Lista para armazenar as informações formatadas\n",
    "informacoes_formatadas = []\n",
    "\n",
    "# Iterar sobre as correspondências e formatar as informações\n",
    "for correspondencia in correspondencias:\n",
    "    informacao = correspondencia[1].strip()\n",
    "    data_inicio = correspondencia[2]\n",
    "    data_termino = correspondencia[3]\n",
    "    valor = correspondencia[4]\n",
    "\n",
    "    # Adicionar as informações formatadas à lista\n",
    "    informacoes_formatadas.append([informacao, data_inicio, data_termino, valor])\n",
    "\n",
    "# Criar DataFrame do Pandas com as informações formatadas\n",
    "df = pd.DataFrame(informacoes_formatadas, columns=['Nome Cliente', 'Data de cadastro', 'Data do serviço', 'Valor'])\n",
    "\n",
    "# Exibir o DataFrame\n",
    "df.head()\n"
   ]
  },
  {
   "cell_type": "code",
   "execution_count": 132,
   "id": "48ec8c14",
   "metadata": {},
   "outputs": [
    {
     "name": "stdout",
     "output_type": "stream",
     "text": [
      "<class 'pandas.core.frame.DataFrame'>\n",
      "RangeIndex: 115 entries, 0 to 114\n",
      "Data columns (total 4 columns):\n",
      " #   Column            Non-Null Count  Dtype \n",
      "---  ------            --------------  ----- \n",
      " 0   Nome Cliente      115 non-null    object\n",
      " 1   Data de cadastro  115 non-null    object\n",
      " 2   Data do serviço   115 non-null    object\n",
      " 3   Valor             115 non-null    object\n",
      "dtypes: object(4)\n",
      "memory usage: 3.7+ KB\n"
     ]
    }
   ],
   "source": [
    "df.info()"
   ]
  },
  {
   "cell_type": "code",
   "execution_count": 133,
   "id": "deefe184",
   "metadata": {},
   "outputs": [
    {
     "name": "stderr",
     "output_type": "stream",
     "text": [
      "C:\\Users\\Shirley Dezan\\AppData\\Local\\Temp\\ipykernel_102824\\1589858334.py:2: FutureWarning: The default value of regex will change from True to False in a future version. In addition, single character regular expressions will *not* be treated as literal strings when regex=True.\n",
      "  df['Data de cadastro'] = df['Data de cadastro'].str.replace('.', '/')\n",
      "C:\\Users\\Shirley Dezan\\AppData\\Local\\Temp\\ipykernel_102824\\1589858334.py:3: FutureWarning: The default value of regex will change from True to False in a future version. In addition, single character regular expressions will *not* be treated as literal strings when regex=True.\n",
      "  df['Data do serviço'] = df['Data do serviço'].str.replace('.', '/')\n"
     ]
    }
   ],
   "source": [
    "df['Nome Cliente'] = df['Nome Cliente'].str.replace('\\n', '')\n",
    "df['Data de cadastro'] = df['Data de cadastro'].str.replace('.', '/')\n",
    "df['Data do serviço'] = df['Data do serviço'].str.replace('.', '/')"
   ]
  },
  {
   "cell_type": "code",
   "execution_count": 134,
   "id": "fb0293c8",
   "metadata": {},
   "outputs": [],
   "source": [
    "df['Valor'] = df['Valor'].str.replace(',', '').astype(float)"
   ]
  },
  {
   "cell_type": "code",
   "execution_count": 135,
   "id": "046be18e",
   "metadata": {},
   "outputs": [
    {
     "data": {
      "text/html": [
       "<div>\n",
       "<style scoped>\n",
       "    .dataframe tbody tr th:only-of-type {\n",
       "        vertical-align: middle;\n",
       "    }\n",
       "\n",
       "    .dataframe tbody tr th {\n",
       "        vertical-align: top;\n",
       "    }\n",
       "\n",
       "    .dataframe thead th {\n",
       "        text-align: right;\n",
       "    }\n",
       "</style>\n",
       "<table border=\"1\" class=\"dataframe\">\n",
       "  <thead>\n",
       "    <tr style=\"text-align: right;\">\n",
       "      <th></th>\n",
       "      <th>Nome Cliente</th>\n",
       "      <th>Data de cadastro</th>\n",
       "      <th>Data do serviço</th>\n",
       "      <th>Valor</th>\n",
       "    </tr>\n",
       "  </thead>\n",
       "  <tbody>\n",
       "    <tr>\n",
       "      <th>0</th>\n",
       "      <td>CARLA   LAMBERTI</td>\n",
       "      <td>21/09/2023</td>\n",
       "      <td>29/09/2023</td>\n",
       "      <td>1450.0</td>\n",
       "    </tr>\n",
       "    <tr>\n",
       "      <th>1</th>\n",
       "      <td>VANDA   VOZNIAK</td>\n",
       "      <td>21/09/2023</td>\n",
       "      <td>29/09/2023</td>\n",
       "      <td>1450.0</td>\n",
       "    </tr>\n",
       "    <tr>\n",
       "      <th>2</th>\n",
       "      <td>MAGDA FRIAS   GONCALVES</td>\n",
       "      <td>25/09/2023</td>\n",
       "      <td>29/09/2023</td>\n",
       "      <td>1450.0</td>\n",
       "    </tr>\n",
       "    <tr>\n",
       "      <th>3</th>\n",
       "      <td>JANICE MARIA GERALDO DA   SILVA</td>\n",
       "      <td>25/09/2023</td>\n",
       "      <td>29/09/2023</td>\n",
       "      <td>1450.0</td>\n",
       "    </tr>\n",
       "    <tr>\n",
       "      <th>4</th>\n",
       "      <td>JANIR IZABEL MACHADO DE   OLIVEIRA</td>\n",
       "      <td>21/09/2023</td>\n",
       "      <td>29/09/2023</td>\n",
       "      <td>1450.0</td>\n",
       "    </tr>\n",
       "  </tbody>\n",
       "</table>\n",
       "</div>"
      ],
      "text/plain": [
       "                         Nome Cliente Data de cadastro Data do serviço   Valor\n",
       "0                    CARLA   LAMBERTI       21/09/2023      29/09/2023  1450.0\n",
       "1                     VANDA   VOZNIAK       21/09/2023      29/09/2023  1450.0\n",
       "2             MAGDA FRIAS   GONCALVES       25/09/2023      29/09/2023  1450.0\n",
       "3     JANICE MARIA GERALDO DA   SILVA       25/09/2023      29/09/2023  1450.0\n",
       "4  JANIR IZABEL MACHADO DE   OLIVEIRA       21/09/2023      29/09/2023  1450.0"
      ]
     },
     "execution_count": 135,
     "metadata": {},
     "output_type": "execute_result"
    }
   ],
   "source": [
    "df.head()"
   ]
  },
  {
   "cell_type": "code",
   "execution_count": 136,
   "id": "465ca4ee",
   "metadata": {},
   "outputs": [
    {
     "data": {
      "text/plain": [
       "166750.0"
      ]
     },
     "execution_count": 136,
     "metadata": {},
     "output_type": "execute_result"
    }
   ],
   "source": [
    "df['Valor'].sum()"
   ]
  },
  {
   "cell_type": "code",
   "execution_count": null,
   "id": "010f764e",
   "metadata": {},
   "outputs": [],
   "source": []
  }
 ],
 "metadata": {
  "kernelspec": {
   "display_name": "Python 3 (ipykernel)",
   "language": "python",
   "name": "python3"
  },
  "language_info": {
   "codemirror_mode": {
    "name": "ipython",
    "version": 3
   },
   "file_extension": ".py",
   "mimetype": "text/x-python",
   "name": "python",
   "nbconvert_exporter": "python",
   "pygments_lexer": "ipython3",
   "version": "3.9.18"
  }
 },
 "nbformat": 4,
 "nbformat_minor": 5
}
